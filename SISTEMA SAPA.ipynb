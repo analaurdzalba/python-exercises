{
 "cells": [
  {
   "cell_type": "code",
   "execution_count": 10,
   "metadata": {},
   "outputs": [],
   "source": [
    "from tkinter import *\n",
    "import tkinter.messagebox as msgbox\n",
    "from tkinter.ttk import *\n",
    "\n",
    "\n",
    "# Configuración de la raíz\n",
    "root = Tk()\n",
    "root.config(bg = \"#A8ED5A\")\n",
    "root.title(\"Simulador de SAPA\")\n",
    "root.minsize(450,200)\n",
    "root.maxsize(450,200)\n",
    "#root.iconbitmap()\n",
    "\n",
    "usuario = StringVar()\n",
    "contraseña = StringVar()\n",
    "v = IntVar()\n",
    "\n",
    "Label1 = Label(root, font = (\"Times\", 20), text=\"Usuario:\").grid(row = 0, column = 0)\n",
    "Label2 = Label(root, font = (\"Times\", 20), text=\"Contraseña:\").grid(row = 1, column = 0)\n",
    "Label3 = Label(root, font = (\"Times\", 20, \"italic\"),text=\"Periodo:\").grid(row = 2, column = 0)\n",
    "Label4 = Label(root, font = (\"Times\", 10, \"italic\"),text= \"Contraseña del\\n correo\\n electrónico\").grid(row = 1, column = 2)\n",
    "Label5 = Label(root, font = (\"Times\", 20), text=\"Carrera:\").grid(row = 3, column = 0)\n",
    "\n",
    "\n",
    "\n",
    "entradaUsuario = Entry(root, justify=\"center\", textvariable = usuario).grid(row = 0, column = 1, padx = 5, pady = 5) # primer numero\n",
    "entradaContraseña = Entry(root, justify=\"center\", textvariable = contraseña, show = \"*\").grid(row = 1, column = 1, padx = 5, pady = 5)# segundo numero\n",
    "\n",
    "\n",
    "def login():\n",
    "    username = usuario.get()\n",
    "    password = contraseña.get()\n",
    "    if username in diccionario:\n",
    "        x = diccionario[username]\n",
    "        if (x == password):\n",
    "            msgbox.showinfo(\"Validación del usuario\",\"Usuario válido\")\n",
    "        else:\n",
    "            msgbox.showerror(\"Validación del usuario\",\"Usuario inválido\")\n",
    "            \n",
    "diccionario = {\"A01194933\":\"AnaLaura\",\"A01720082\":\"KarlaFer\",\"A01720072\":\"Patricio\",\"A00824860\":\"Cchiara\"}\n",
    "            \n",
    "def callback(eventObject):\n",
    "    print(combo.get())\n",
    "    seleccion = eventObject.widget.get()\n",
    "    print(seleccion)\n",
    "    print(dir(seleccion))\n",
    "\n",
    "Login = Button(root, text=\"Entrar\", command = login)\n",
    "Login.grid(row = 4, column = 1, padx = 5, pady = 5)\n",
    "\n",
    "etapas = [\"Semestre Enero-Mayo 2019\", \"Verano Intensivo 2019\", \"Semestre Agosto-Diciembre 2019\"]\n",
    "\n",
    "edad = Spinbox(root, values = etapas)\n",
    "edad.grid(row = 2, column = 1)\n",
    "\n",
    "combo = Combobox(root)\n",
    "combo[\"values\"] = (\"INT\", \"IIS\", \"IBT\", \"ITC\", \"ISDR\")\n",
    "combo.current(0)\n",
    "combo.grid(row = 3, column = 1, padx = 5, pady = 5)\n",
    "combo.bind(\"<<ComboboxSelected>>\", callback)\n",
    "\n",
    "\n",
    "\n",
    "\n",
    "# Finalmente bucle de la apliación\n",
    "root.mainloop()"
   ]
  },
  {
   "cell_type": "code",
   "execution_count": 2,
   "metadata": {},
   "outputs": [],
   "source": [
    "from tkinter import *\n"
   ]
  },
  {
   "cell_type": "code",
   "execution_count": null,
   "metadata": {},
   "outputs": [],
   "source": []
  }
 ],
 "metadata": {
  "kernelspec": {
   "display_name": "Python 3",
   "language": "python",
   "name": "python3"
  },
  "language_info": {
   "codemirror_mode": {
    "name": "ipython",
    "version": 3
   },
   "file_extension": ".py",
   "mimetype": "text/x-python",
   "name": "python",
   "nbconvert_exporter": "python",
   "pygments_lexer": "ipython3",
   "version": "3.7.1"
  }
 },
 "nbformat": 4,
 "nbformat_minor": 2
}
