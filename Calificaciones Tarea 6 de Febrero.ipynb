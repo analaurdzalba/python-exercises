{
 "cells": [
  {
   "cell_type": "code",
   "execution_count": 65,
   "metadata": {},
   "outputs": [],
   "source": [
    "class Semestre():\n",
    "    \"\"\"Semestre: sus atributos son:\n",
    "    nombreAlumno,\n",
    "    material, calificacionMateria1,\n",
    "    materia2, calificacionMateria2,\n",
    "    materia3, calificacionMateria3,\"\"\"\n",
    "    def __init__(self,nombre = '*',sM1 = '*',fCM1 = 0,sM2 = '*',fCM2=0,sM3='*',fCM3=0):\n",
    "        self.nombre = nombre\n",
    "        self.sM1 = sM1\n",
    "        if esNumero(fCM1):\n",
    "            self.fCM1 = fCM1\n",
    "        else:\n",
    "            raise TypeError(\"Favor de introducir un número.\")\n",
    "        self.sM2 = sM2\n",
    "        if esNumero(fCM2):\n",
    "            self.fCM2 = fCM2\n",
    "        else:\n",
    "            raise TypeError(\"Favor de introducir un número.\")\n",
    "        self.sM3 = sM3\n",
    "        if esNumero(fCM3):\n",
    "            self.fCM3 = fCM3\n",
    "        else:\n",
    "            raise TypeError(\"Favor de introducir un número.\")\n",
    "        \n",
    "    \"\"\"Función que regresa el promedio de las tres materias\"\"\"\n",
    "    def promedio(self):\n",
    "        sumar = self.fCM1+self.fCM2+self.fCM3\n",
    "        promedio = sumar/3\n",
    "        return promedio\n",
    "    \"\"\"Función que regresa la calificación máxima del semestre.\"\"\"\n",
    "    def maxCalificacion(self):\n",
    "        maxCalificacion = max(self.fCM1,self.fCM2,self.fCM3)\n",
    "        return maxCalificacion\n",
    "    \"\"\"Función que regresa la calificación mínima del semestre\"\"\"\n",
    "    def minCalificacion(self):\n",
    "        minCalificacion = min(self.fCM1,self.fCM2,self.fCM3)\n",
    "        return minCalificacion\n",
    "    \"\"\"Función que regresa en forma de string toda la información del objeto.\"\"\"\n",
    "    def __str__(self):\n",
    "        return self.nombre +\"\\n\"+\"Materia 1: \"+self.sM1+ \" Calificación: \"+str(self.fCM1)+ \"\\n\"+\"Materia 2: \"+self.sM2+\" Calificación: \"+str(self.fCM2)+\"\\n\"+\"Materia 3: \"+self.sM3+\" Calificación: \"+str(self.fCM3)+\"\\n\"\n",
    "    \n",
    "    \"\"\"Función que regresa el promedio anual.\"\"\"\n",
    "    def promedioAnual(self,otro):\n",
    "        suma = self.promedio+otro.promedio\n",
    "        promedioAnual = suma/2\n",
    "        return self.nombre +\"\\n\"+\"Materia 1: \"+self.sM1+ \" Calificación: \"+str(self.fCM1)+ \"\\n\"+\"Materia 2: \"+self.sM2+\" Calificación: \"+str(self.fCM2)+\"\\n\"+\"Materia 3: \"+self.sM3+\" Calificación: \"+ str(self.fCM3)+\"\\n\"+\"Promedio Anual: \"+str(promedioAnual)+\"\\n\"\n",
    "       \n",
    "    \"\"\"Función que regresa true si el promedio de self es menor que el promedio de otro.\"\"\"\n",
    "    def __lt__(self,otro):\n",
    "        return self.promedio < otro.promedio\n",
    "\n",
    "\"\"\"Indica si un valor es numérico o no.\"\"\"\n",
    "def esNumero(valor):\n",
    "    return isinstance(valor,(int,float))"
   ]
  },
  {
   "cell_type": "code",
   "execution_count": 66,
   "metadata": {},
   "outputs": [
    {
     "name": "stdout",
     "output_type": "stream",
     "text": [
      "Bill Treviño\n",
      "Materia 1: TC3022 Calificación: 89.5\n",
      "Materia 2: TC2016 Calificación: 100\n",
      "Materia 3: TC1014 Calificación: 90\n",
      "\n",
      "Calificación Máxima:  100\n",
      "Calificación Mínima:  89.5\n",
      "Promedio:  93.16666666666667\n"
     ]
    }
   ],
   "source": [
    "BillSemestre1 = Semestre(\"Bill Treviño\",\"TC3022\",89.5,\"TC2016\",100,\"TC1014\",90)\n",
    "print(BillSemestre1)\n",
    "print(\"Calificación Máxima: \",BillSemestre1.maxCalificacion())\n",
    "print(\"Calificación Mínima: \",BillSemestre1.minCalificacion())\n",
    "print(\"Promedio: \",BillSemestre1.promedio())"
   ]
  },
  {
   "cell_type": "code",
   "execution_count": 67,
   "metadata": {},
   "outputs": [
    {
     "name": "stdout",
     "output_type": "stream",
     "text": [
      "Bill Treviño\n",
      "Materia 1: PB3032 Calificación: 50.5\n",
      "Materia 2: PB3020 Calificación: 50\n",
      "Materia 3: PB3214 Calificación: 95\n",
      "\n",
      "Calificación Máxima:  95\n",
      "Calificación Mínima:  50\n",
      "Promedio:  65.16666666666667\n"
     ]
    },
    {
     "ename": "TypeError",
     "evalue": "'<' not supported between instances of 'method' and 'method'",
     "output_type": "error",
     "traceback": [
      "\u001b[0;31m---------------------------------------------------------------------------\u001b[0m",
      "\u001b[0;31mTypeError\u001b[0m                                 Traceback (most recent call last)",
      "\u001b[0;32m<ipython-input-67-8dcd55c13f0c>\u001b[0m in \u001b[0;36m<module>\u001b[0;34m\u001b[0m\n\u001b[1;32m      5\u001b[0m \u001b[0mprint\u001b[0m\u001b[0;34m(\u001b[0m\u001b[0;34m\"Promedio: \"\u001b[0m\u001b[0;34m,\u001b[0m\u001b[0mBillSemestre2\u001b[0m\u001b[0;34m.\u001b[0m\u001b[0mpromedio\u001b[0m\u001b[0;34m(\u001b[0m\u001b[0;34m)\u001b[0m\u001b[0;34m)\u001b[0m\u001b[0;34m\u001b[0m\u001b[0;34m\u001b[0m\u001b[0m\n\u001b[1;32m      6\u001b[0m \u001b[0mlista\u001b[0m \u001b[0;34m=\u001b[0m \u001b[0;34m[\u001b[0m\u001b[0mBillSemestre1\u001b[0m\u001b[0;34m,\u001b[0m\u001b[0mBillSemestre2\u001b[0m\u001b[0;34m]\u001b[0m\u001b[0;34m\u001b[0m\u001b[0;34m\u001b[0m\u001b[0m\n\u001b[0;32m----> 7\u001b[0;31m \u001b[0mlista\u001b[0m\u001b[0;34m.\u001b[0m\u001b[0msort\u001b[0m\u001b[0;34m(\u001b[0m\u001b[0;34m)\u001b[0m\u001b[0;34m\u001b[0m\u001b[0;34m\u001b[0m\u001b[0m\n\u001b[0m\u001b[1;32m      8\u001b[0m \u001b[0;32mfor\u001b[0m \u001b[0msemestre\u001b[0m \u001b[0;32min\u001b[0m \u001b[0mlista\u001b[0m\u001b[0;34m:\u001b[0m\u001b[0;34m\u001b[0m\u001b[0;34m\u001b[0m\u001b[0m\n\u001b[1;32m      9\u001b[0m     \u001b[0;32mreturn\u001b[0m\u001b[0;34m(\u001b[0m\u001b[0msemestre\u001b[0m\u001b[0;34m)\u001b[0m\u001b[0;34m\u001b[0m\u001b[0;34m\u001b[0m\u001b[0m\n",
      "\u001b[0;32m<ipython-input-65-8c07b341fb46>\u001b[0m in \u001b[0;36m__lt__\u001b[0;34m(self, otro)\u001b[0m\n\u001b[1;32m     48\u001b[0m     \u001b[0;34m\"\"\"Función que regresa true si el promedio de self es menor que el promedio de otro.\"\"\"\u001b[0m\u001b[0;34m\u001b[0m\u001b[0;34m\u001b[0m\u001b[0m\n\u001b[1;32m     49\u001b[0m     \u001b[0;32mdef\u001b[0m \u001b[0m__lt__\u001b[0m\u001b[0;34m(\u001b[0m\u001b[0mself\u001b[0m\u001b[0;34m,\u001b[0m\u001b[0motro\u001b[0m\u001b[0;34m)\u001b[0m\u001b[0;34m:\u001b[0m\u001b[0;34m\u001b[0m\u001b[0;34m\u001b[0m\u001b[0m\n\u001b[0;32m---> 50\u001b[0;31m         \u001b[0;32mreturn\u001b[0m \u001b[0mself\u001b[0m\u001b[0;34m.\u001b[0m\u001b[0mpromedio\u001b[0m \u001b[0;34m<\u001b[0m \u001b[0motro\u001b[0m\u001b[0;34m.\u001b[0m\u001b[0mpromedio\u001b[0m\u001b[0;34m\u001b[0m\u001b[0;34m\u001b[0m\u001b[0m\n\u001b[0m\u001b[1;32m     51\u001b[0m \u001b[0;34m\u001b[0m\u001b[0m\n\u001b[1;32m     52\u001b[0m \u001b[0;34m\"\"\"Indica si un valor es numérico o no.\"\"\"\u001b[0m\u001b[0;34m\u001b[0m\u001b[0;34m\u001b[0m\u001b[0m\n",
      "\u001b[0;31mTypeError\u001b[0m: '<' not supported between instances of 'method' and 'method'"
     ]
    }
   ],
   "source": [
    "BillSemestre2 = Semestre(\"Bill Treviño\",\"PB3032\",50.5,\"PB3020\",50,\"PB3214\",95)\n",
    "print(BillSemestre2)\n",
    "print(\"Calificación Máxima: \",BillSemestre2.maxCalificacion())\n",
    "print(\"Calificación Mínima: \",BillSemestre2.minCalificacion())\n",
    "print(\"Promedio: \",BillSemestre2.promedio())\n",
    "lista = [BillSemestre1,BillSemestre2]\n",
    "lista.sort()\n",
    "for semestre in lista:\n",
    "    return(semestre)"
   ]
  },
  {
   "cell_type": "code",
   "execution_count": 68,
   "metadata": {},
   "outputs": [
    {
     "name": "stdout",
     "output_type": "stream",
     "text": [
      "Ana Laura Rodríguez\n",
      "Materia 1: TC0011 Calificación: 99.5\n",
      "Materia 2: POO18 Calificación: 90\n",
      "Materia 3: TC1001 Calificación: 100\n",
      "\n",
      "Calificación Máxima:  100\n",
      "Calificación Mínima:  90\n",
      "Promedio:  96.5\n"
     ]
    }
   ],
   "source": [
    "AnaSemestre1 = Semestre(\"Ana Laura Rodríguez\",\"TC0011\",99.5,\"POO18\",90,\"TC1001\",100)\n",
    "print(AnaSemestre1)\n",
    "print(\"Calificación Máxima: \",AnaSemestre1.maxCalificacion())\n",
    "print(\"Calificación Mínima: \",AnaSemestre1.minCalificacion())\n",
    "print(\"Promedio: \",AnaSemestre1.promedio())"
   ]
  },
  {
   "cell_type": "code",
   "execution_count": 69,
   "metadata": {},
   "outputs": [
    {
     "name": "stdout",
     "output_type": "stream",
     "text": [
      "Ana Laura Rodríguez\n",
      "Materia 1: TC9988 Calificación: 96.5\n",
      "Materia 2: PB0011 Calificación: 98\n",
      "Materia 3: BI099 Calificación: 100\n",
      "\n",
      "Calificación Máxima:  100\n",
      "Calificación Mínima:  96.5\n",
      "Promedio:  98.16666666666667\n"
     ]
    },
    {
     "ename": "TypeError",
     "evalue": "'<' not supported between instances of 'method' and 'method'",
     "output_type": "error",
     "traceback": [
      "\u001b[0;31m---------------------------------------------------------------------------\u001b[0m",
      "\u001b[0;31mTypeError\u001b[0m                                 Traceback (most recent call last)",
      "\u001b[0;32m<ipython-input-69-b3edef373661>\u001b[0m in \u001b[0;36m<module>\u001b[0;34m\u001b[0m\n\u001b[1;32m      5\u001b[0m \u001b[0mprint\u001b[0m\u001b[0;34m(\u001b[0m\u001b[0;34m\"Promedio: \"\u001b[0m\u001b[0;34m,\u001b[0m\u001b[0mAnaSemestre2\u001b[0m\u001b[0;34m.\u001b[0m\u001b[0mpromedio\u001b[0m\u001b[0;34m(\u001b[0m\u001b[0;34m)\u001b[0m\u001b[0;34m)\u001b[0m\u001b[0;34m\u001b[0m\u001b[0;34m\u001b[0m\u001b[0m\n\u001b[1;32m      6\u001b[0m \u001b[0mlista\u001b[0m \u001b[0;34m=\u001b[0m \u001b[0;34m[\u001b[0m\u001b[0mAnaSemestre1\u001b[0m\u001b[0;34m,\u001b[0m\u001b[0mAnaSemestre2\u001b[0m\u001b[0;34m]\u001b[0m\u001b[0;34m\u001b[0m\u001b[0;34m\u001b[0m\u001b[0m\n\u001b[0;32m----> 7\u001b[0;31m \u001b[0mlista\u001b[0m\u001b[0;34m.\u001b[0m\u001b[0msort\u001b[0m\u001b[0;34m(\u001b[0m\u001b[0;34m)\u001b[0m\u001b[0;34m\u001b[0m\u001b[0;34m\u001b[0m\u001b[0m\n\u001b[0m\u001b[1;32m      8\u001b[0m \u001b[0;32mfor\u001b[0m \u001b[0msemestre\u001b[0m \u001b[0;32min\u001b[0m \u001b[0mlista\u001b[0m\u001b[0;34m:\u001b[0m\u001b[0;34m\u001b[0m\u001b[0;34m\u001b[0m\u001b[0m\n\u001b[1;32m      9\u001b[0m     \u001b[0;32mreturn\u001b[0m\u001b[0;34m(\u001b[0m\u001b[0msemestre\u001b[0m\u001b[0;34m)\u001b[0m\u001b[0;34m\u001b[0m\u001b[0;34m\u001b[0m\u001b[0m\n",
      "\u001b[0;32m<ipython-input-65-8c07b341fb46>\u001b[0m in \u001b[0;36m__lt__\u001b[0;34m(self, otro)\u001b[0m\n\u001b[1;32m     48\u001b[0m     \u001b[0;34m\"\"\"Función que regresa true si el promedio de self es menor que el promedio de otro.\"\"\"\u001b[0m\u001b[0;34m\u001b[0m\u001b[0;34m\u001b[0m\u001b[0m\n\u001b[1;32m     49\u001b[0m     \u001b[0;32mdef\u001b[0m \u001b[0m__lt__\u001b[0m\u001b[0;34m(\u001b[0m\u001b[0mself\u001b[0m\u001b[0;34m,\u001b[0m\u001b[0motro\u001b[0m\u001b[0;34m)\u001b[0m\u001b[0;34m:\u001b[0m\u001b[0;34m\u001b[0m\u001b[0;34m\u001b[0m\u001b[0m\n\u001b[0;32m---> 50\u001b[0;31m         \u001b[0;32mreturn\u001b[0m \u001b[0mself\u001b[0m\u001b[0;34m.\u001b[0m\u001b[0mpromedio\u001b[0m \u001b[0;34m<\u001b[0m \u001b[0motro\u001b[0m\u001b[0;34m.\u001b[0m\u001b[0mpromedio\u001b[0m\u001b[0;34m\u001b[0m\u001b[0;34m\u001b[0m\u001b[0m\n\u001b[0m\u001b[1;32m     51\u001b[0m \u001b[0;34m\u001b[0m\u001b[0m\n\u001b[1;32m     52\u001b[0m \u001b[0;34m\"\"\"Indica si un valor es numérico o no.\"\"\"\u001b[0m\u001b[0;34m\u001b[0m\u001b[0;34m\u001b[0m\u001b[0m\n",
      "\u001b[0;31mTypeError\u001b[0m: '<' not supported between instances of 'method' and 'method'"
     ]
    }
   ],
   "source": [
    "AnaSemestre2 = Semestre(\"Ana Laura Rodríguez\",\"TC9988\",96.5,\"PB0011\",98,\"BI099\",100)\n",
    "print(AnaSemestre2)\n",
    "print(\"Calificación Máxima: \",AnaSemestre2.maxCalificacion())\n",
    "print(\"Calificación Mínima: \",AnaSemestre2.minCalificacion())\n",
    "print(\"Promedio: \",AnaSemestre2.promedio())\n",
    "lista = [AnaSemestre1,AnaSemestre2]\n",
    "lista.sort()\n",
    "for semestre in lista:\n",
    "    return(semestre)"
   ]
  },
  {
   "cell_type": "code",
   "execution_count": null,
   "metadata": {},
   "outputs": [],
   "source": []
  }
 ],
 "metadata": {
  "kernelspec": {
   "display_name": "Python 3",
   "language": "python",
   "name": "python3"
  },
  "language_info": {
   "codemirror_mode": {
    "name": "ipython",
    "version": 3
   },
   "file_extension": ".py",
   "mimetype": "text/x-python",
   "name": "python",
   "nbconvert_exporter": "python",
   "pygments_lexer": "ipython3",
   "version": "3.7.1"
  }
 },
 "nbformat": 4,
 "nbformat_minor": 2
}
